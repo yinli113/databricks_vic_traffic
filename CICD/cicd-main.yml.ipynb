{
 "cells": [
  {
   "cell_type": "code",
   "execution_count": 0,
   "metadata": {
    "application/vnd.databricks.v1+cell": {
     "cellMetadata": {},
     "inputWidgets": {},
     "nuid": "17fcc130-4c58-4c5e-8c60-1774bfca4d65",
     "showTitle": false,
     "tableResultSettingsMap": {},
     "title": ""
    }
   },
   "outputs": [],
   "source": [
    "trigger:\n",
    "  - main\n",
    "\n",
    "variables:\n",
    "  - group: dev-cicd-grp\n",
    "  - name: notebookPath\n",
    "    value: \"notebooks\"  \n",
    "\n",
    "pool:\n",
    "  vmImage: \"windows-latest\"\n",
    "\n",
    "stages:\n",
    "  - template: deploy.yml\n",
    "    parameters:\n",
    "      stageId: \"Deploy_to_Dev_Env\"\n",
    "      env: \"dev\"\n",
    "      environmentName: $(dev-env-name)\n",
    "      resourceGroupName: $(dev-resource-grp-name)\n",
    "      serviceConnection: $(dev-service-connection-name)\n",
    "      notebookPath: $(notebookPath)\n"
   ]
  }
 ],
 "metadata": {
  "application/vnd.databricks.v1+notebook": {
   "computePreferences": null,
   "dashboards": [],
   "environmentMetadata": {
    "base_environment": "",
    "environment_version": "3"
   },
   "inputWidgetPreferences": null,
   "language": "python",
   "notebookMetadata": {
    "pythonIndentUnit": 4
   },
   "notebookName": "cicd-main.yml",
   "widgets": {}
  },
  "language_info": {
   "name": "python"
  }
 },
 "nbformat": 4,
 "nbformat_minor": 0
}
