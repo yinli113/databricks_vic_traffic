{
 "cells": [
  {
   "cell_type": "code",
   "execution_count": 0,
   "metadata": {
    "application/vnd.databricks.v1+cell": {
     "cellMetadata": {},
     "inputWidgets": {},
     "nuid": "470be6a7-2b13-4912-a0c3-f87a21918f9e",
     "showTitle": false,
     "tableResultSettingsMap": {},
     "title": ""
    }
   },
   "outputs": [],
   "source": [
    "parameters:\n",
    "  - name: stageId\n",
    "    type: string\n",
    "  - name: dependsOn\n",
    "    type: object\n",
    "    default: []\n",
    "  - name: env\n",
    "    type: string\n",
    "  - name: environmentName\n",
    "    type: string\n",
    "  - name: resourceGroupName\n",
    "    type: string\n",
    "  - name: serviceConnection\n",
    "    type: string\n",
    "  - name: notebookPath\n",
    "    type: string\n",
    "\n",
    "stages:\n",
    "  - stage: \"${{ parameters.stageId }}\"\n",
    "    displayName: \"Deploying to [${{ upper(parameters.env) }}] environment\"\n",
    "    dependsOn: ${{ parameters.dependsOn }}\n",
    "    jobs:\n",
    "      - deployment: Deploy\n",
    "        displayName: \"Deploying Databricks Notebooks\"\n",
    "        environment: ${{ parameters.environmentName }}\n",
    "        strategy:\n",
    "          runOnce:\n",
    "            deploy:\n",
    "              steps:\n",
    "                - checkout: self\n",
    "                - task: AzureCLI@2\n",
    "                  inputs:\n",
    "                    azureSubscription: ${{ parameters.serviceConnection }}\n",
    "                    scriptType: \"pscore\"\n",
    "                    scriptLocation: \"inlineScript\"\n",
    "                    inlineScript: |\n",
    "                      az config set extension.use_dynamic_install=yes_without_prompt\n",
    "                      \n",
    "                      $databricksWorkspace = (az resource list --resource-group ${{parameters.resourceGroupName}} --query \"[?type =='Microsoft.Databricks/workspaces']\" | ConvertFrom-Json)[0]\n",
    "                      $databricksWorkspaceInfo = (az databricks workspace show --ids $databricksWorkspace.id | ConvertFrom-Json)\n",
    "                      \n",
    "                      $bearerToken = $(Build.Repository.LocalPath)/CICD/shellScript/DBToken.ps1 -databricksWorkspaceResourceId $databricksWorkspaceInfo.id -databricksWorkspaceUrl $databricksWorkspaceInfo.workspaceUrl\n",
    "                      \n",
    "                      Install-Module -Name azure.databricks.cicd.tools -Force -Scope CurrentUser\n",
    "                      Import-Module -Name azure.databricks.cicd.tools\n",
    "                      Import-DatabricksFolder -BearerToken $bearerToken -Region $databricksWorkspaceInfo.location -LocalPath $(Build.Repository.LocalPath)/${{ parameters.notebookPath }} -DatabricksPath '/live' -Clean\n"
   ]
  }
 ],
 "metadata": {
  "application/vnd.databricks.v1+notebook": {
   "computePreferences": null,
   "dashboards": [],
   "environmentMetadata": {
    "base_environment": "",
    "environment_version": "3"
   },
   "inputWidgetPreferences": null,
   "language": "python",
   "notebookMetadata": {
    "pythonIndentUnit": 4
   },
   "notebookName": "deploy.yml",
   "widgets": {}
  },
  "language_info": {
   "name": "python"
  }
 },
 "nbformat": 4,
 "nbformat_minor": 0
}
