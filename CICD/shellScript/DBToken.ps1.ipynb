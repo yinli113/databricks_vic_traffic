{
 "cells": [
  {
   "cell_type": "code",
   "execution_count": 0,
   "metadata": {
    "application/vnd.databricks.v1+cell": {
     "cellMetadata": {
      "byteLimit": 2048000,
      "rowLimit": 10000
     },
     "inputWidgets": {},
     "nuid": "251e44a7-daf7-4c1f-b566-61dbf5507687",
     "showTitle": false,
     "tableResultSettingsMap": {},
     "title": ""
    }
   },
   "outputs": [],
   "source": [
    "param\n",
    "(\n",
    "\t[parameter(Mandatory = $true)] [String] $databricksWorkspaceResourceId,\n",
    "\t[parameter(Mandatory = $true)] [String] $databricksWorkspaceUrl,\n",
    "\t[parameter(Mandatory = $false)] [int] $tokenLifeTimeSeconds = 300\n",
    ")\n",
    "\n",
    "\n",
    "########\n",
    "\n",
    "# Print the values for debugging\n",
    "Write-Host \"Databricks Workspace Resource ID: $databricksWorkspaceResourceId\"\n",
    "Write-Host \"Databricks Workspace URL: $databricksWorkspaceUrl\"\n",
    "\n",
    "## Test on token access\n",
    "\n",
    "# Try to get the access token\n",
    "try {\n",
    "    $azureAccessToken = (az account get-access-token --resource https://management.azure.com | ConvertFrom-Json).accessToken\n",
    "    Write-Host \"Azure Access Token Acquired successfully.\"\n",
    "}\n",
    "catch {\n",
    "    Write-Host \"Failed to acquire Azure Access Token.\"\n",
    "    throw $_\n",
    "}\n",
    "\n",
    "########\n",
    "\n",
    "$azureDatabricksPrincipalId = '2ff814a6-3304-4ab8-85cb-cd0e6f879c1d'\n",
    "\n",
    "$headers = @{}\n",
    "$headers[\"Authorization\"] = \"Bearer $(( az account get-access-token --resource $azureDatabricksPrincipalId | ConvertFrom-Json).accessToken)\"\n",
    "$headers[\"X-Databricks-Azure-SP-Management-Token\"] = \"$((az account get-access-token --resource https://management.core.windows.net/ | ConvertFrom-Json).accessToken)\"\n",
    "$headers[\"X-Databricks-Azure-Workspace-Resource-Id\"] = $databricksWorkspaceResourceId\n",
    "\n",
    "\n",
    "$json = @{}\n",
    "$json[\"lifetime_seconds\"] = $tokenLifeTimeSeconds\n",
    "\n",
    "$req = Invoke-WebRequest -Uri \"https://$databricksWorkspaceUrl/api/2.0/token/create\" -Body ($json | ConvertTo-Json) -ContentType \"application/json\" -Headers $headers -Method POST\n",
    "$bearerToken = ($req.Content | ConvertFrom-Json).token_value\n",
    "\n",
    "return $bearerToken\n"
   ]
  }
 ],
 "metadata": {
  "application/vnd.databricks.v1+notebook": {
   "computePreferences": {
    "hardware": {
     "accelerator": null,
     "gpuPoolId": null,
     "memory": null
    }
   },
   "dashboards": [],
   "environmentMetadata": {
    "base_environment": "",
    "environment_version": "3"
   },
   "inputWidgetPreferences": null,
   "language": "python",
   "notebookMetadata": {
    "pythonIndentUnit": 4
   },
   "notebookName": "DBToken.ps1",
   "widgets": {}
  },
  "language_info": {
   "name": "python"
  }
 },
 "nbformat": 4,
 "nbformat_minor": 0
}
