{
 "cells": [
  {
   "cell_type": "code",
   "execution_count": 0,
   "metadata": {
    "application/vnd.databricks.v1+cell": {
     "cellMetadata": {},
     "inputWidgets": {},
     "nuid": "164b8b03-b9c7-49e2-a6e7-3d6eae3b56f4",
     "showTitle": false,
     "tableResultSettingsMap": {},
     "title": ""
    }
   },
   "outputs": [],
   "source": [
    "# Databricks notebook source\n",
    "# MAGIC %run ./1_config.py\n",
    "\n",
    "# COMMAND ----------\n",
    "\n",
    "# MAGIC %run ./2_setup.py\n",
    "\n",
    "# COMMAND ----------\n",
    "\n",
    "\n",
    "spark.sql(f\"USE CATALOG {conf.catalog}\")\n",
    "spark.sql(f\"USE {conf.db_name}\")\n",
    "\n",
    "tables = [\n",
    "    \"fact_traffic_15min\",\n",
    "    \"fact_daily_summary\",\n",
    "    conf.silver_table,\n",
    "    \"raw_traffic\",\n",
    "    \"dim_time\",\n",
    "    \"dim_detector\",\n",
    "    \"region_lookup\",\n",
    "]\n",
    "\n",
    "for t in tables:\n",
    "    fqn = f\"{conf.catalog}.{conf.db_name}.{t}\"\n",
    "    try:\n",
    "        spark.sql(f\"DROP TABLE IF EXISTS {fqn}\")\n",
    "        print(\"Dropped\", fqn)\n",
    "    except Exception as e:\n",
    "        print(\"Skip drop\", fqn, e)\n",
    "\n",
    "# Nuke checkpoints/schemas for Auto Loader\n",
    "base = conf.checkpoint_base.rstrip(\"/\")\n",
    "for sub in [\"bronze\", \"silver\", \"gold\"]:\n",
    "    path = f\"{base}/{sub}\"\n",
    "    try:\n",
    "        dbutils.fs.rm(path, recurse=True)\n",
    "        print(\"Removed\", path)\n",
    "    except Exception as e:\n",
    "        print(\"Skip\", path, e)\n",
    "\n",
    "# (Optional) also remove Autoloader per-stream subfolders if you changed patterns\n",
    "# dbutils.fs.rm(f\"{base}/bronze/streaming\", True)\n",
    "\n",
    "# Recreate empty schema & tables\n",
    "SH = SetupHelper(conf)\n",
    "SH.setup()\n",
    "SH.validate()\n"
   ]
  }
 ],
 "metadata": {
  "application/vnd.databricks.v1+notebook": {
   "computePreferences": null,
   "dashboards": [],
   "environmentMetadata": {
    "base_environment": "",
    "environment_version": "3"
   },
   "inputWidgetPreferences": null,
   "language": "python",
   "notebookMetadata": {
    "pythonIndentUnit": 4
   },
   "notebookName": "3_clearup_old_tables",
   "widgets": {}
  },
  "language_info": {
   "name": "python"
  }
 },
 "nbformat": 4,
 "nbformat_minor": 0
}
