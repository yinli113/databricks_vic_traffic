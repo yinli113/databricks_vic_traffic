{
 "cells": [
  {
   "cell_type": "code",
   "execution_count": 0,
   "metadata": {
    "application/vnd.databricks.v1+cell": {
     "cellMetadata": {
      "byteLimit": 2048000,
      "rowLimit": 10000
     },
     "inputWidgets": {},
     "nuid": "af299153-5c1c-474d-9e25-559205838364",
     "showTitle": false,
     "tableResultSettingsMap": {},
     "title": ""
    }
   },
   "outputs": [],
   "source": [
    "%run ./1_config.py"
   ]
  },
  {
   "cell_type": "code",
   "execution_count": 0,
   "metadata": {
    "application/vnd.databricks.v1+cell": {
     "cellMetadata": {
      "byteLimit": 2048000,
      "rowLimit": 10000
     },
     "inputWidgets": {},
     "nuid": "f5d45c36-a5c6-4bb4-840e-4e4e162275f4",
     "showTitle": false,
     "tableResultSettingsMap": {},
     "title": ""
    }
   },
   "outputs": [],
   "source": [
    "\n",
    "\n",
    "from pyspark.sql import functions as F\n",
    "\n",
    "def check_table(fqn: str, sample: int = 5):\n",
    "    print(f\"🔎 Checking {fqn}\")\n",
    "    try:\n",
    "        df = spark.table(fqn)\n",
    "        total = df.count()\n",
    "        print(f\"   ✅ {fqn}: {total} rows\")\n",
    "        if total > 0:\n",
    "            display(df.limit(sample))\n",
    "    except Exception as e:\n",
    "        print(f\"   ❌ {fqn} not found or error: {e}\")\n",
    "    print(\"-\"*80)\n",
    "\n",
    "# ------------------------------------------------------------------\n",
    "# Playground Runner\n",
    "# ------------------------------------------------------------------\n",
    "\n",
    "catalog, db = conf.catalog, conf.db_name\n",
    "\n",
    "tables = [\n",
    "    conf.table_fqn(conf.bronze_table),       # Bronze raw_traffic\n",
    "    conf.table_fqn(conf.silver_table),       # Silver traffic_silver_events\n",
    "    f\"{catalog}.{db}.dim_time\",\n",
    "    f\"{catalog}.{db}.dim_detector\",\n",
    "    f\"{catalog}.{db}.dim_region\",\n",
    "    f\"{catalog}.{db}.fact_traffic_15min\",\n",
    "    f\"{catalog}.{db}.fact_daily_summary\"\n",
    "]\n",
    "\n",
    "for t in tables:\n",
    "    check_table(t, sample=10)\n"
   ]
  }
 ],
 "metadata": {
  "application/vnd.databricks.v1+notebook": {
   "computePreferences": {
    "hardware": {
     "accelerator": null,
     "gpuPoolId": null,
     "memory": null
    }
   },
   "dashboards": [],
   "environmentMetadata": {
    "base_environment": "",
    "environment_version": "3"
   },
   "inputWidgetPreferences": null,
   "language": "python",
   "notebookMetadata": {
    "pythonIndentUnit": 4
   },
   "notebookName": "playground",
   "widgets": {}
  },
  "language_info": {
   "name": "python"
  }
 },
 "nbformat": 4,
 "nbformat_minor": 0
}
