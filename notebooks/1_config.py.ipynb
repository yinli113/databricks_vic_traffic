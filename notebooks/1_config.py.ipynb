{
 "cells": [
  {
   "cell_type": "code",
   "execution_count": 0,
   "metadata": {
    "application/vnd.databricks.v1+cell": {
     "cellMetadata": {
      "byteLimit": 2048000,
      "rowLimit": 10000
     },
     "inputWidgets": {},
     "nuid": "c427c586-0360-4191-a592-8f7bdd58bc9f",
     "showTitle": false,
     "tableResultSettingsMap": {},
     "title": ""
    }
   },
   "outputs": [],
   "source": [
    "\"\"\"\n",
    "Central configuration for the traffic ETL pipeline.\n",
    "\n",
    "This module defines a single ``Config`` class that centralizes all\n",
    "catalog names, database names and storage locations used in the ETL\n",
    "process.  The ``conf`` object is provided as a convenient singleton\n",
    "instance.\n",
    "\"\"\"\n",
    "import os\n",
    "\n",
    "class Config:\n",
    "    def __init__(self, env=None, storage_account=None, metastore_account=None):\n",
    "        # 1) resolve environment (widgets or env vars can set these before import)\n",
    "        self.env = (env or os.getenv(\"ENV\") or \"dev\").strip().lower()\n",
    "        sa = (storage_account   or os.getenv(\"STORAGE_ACCOUNT\")   or \"trafficsa2\").strip()\n",
    "        ms = (metastore_account or os.getenv(\"METASTORE_ACCOUNT\") or sa).strip()\n",
    "\n",
    "        # 2) UC names\n",
    "        self.catalog = self.env\n",
    "        self.db_name = \"traffic_db\"\n",
    "\n",
    "        # 3) FQDNs\n",
    "        self.sa_fqdn = f\"{sa}.dfs.core.windows.net\"\n",
    "        self.ms_fqdn = f\"{ms}.dfs.core.windows.net\"\n",
    "\n",
    "        # 4) storage locations\n",
    "        self.metastore_root  = f\"abfss://traffic-metastore-root@{self.ms_fqdn}/\"\n",
    "        self.managed_data    = f\"abfss://traffic-managed-{self.env}@{self.sa_fqdn}/\"\n",
    "        self.unmanaged_data  = f\"abfss://traffic-unmanaged-{self.env}@{self.sa_fqdn}/\"\n",
    "\n",
    "        # 5) base paths\n",
    "        self.raw_data_path   = f\"{self.unmanaged_data}data_zone\"\n",
    "        self.checkpoint_base = f\"{self.unmanaged_data}checkpoint_zone\"\n",
    "\n",
    "        # 6) logical table names (canonical)\n",
    "        self.bronze_table  = \"raw_traffic\"\n",
    "        self.silver_table  = \"traffic_silver_events\"   # canonical (plural)\n",
    "        self.region_lookup = \"region_lookup\"\n",
    "\n",
    "    def table_fqn(self, table: str) -> str:\n",
    "        return f\"{self.catalog}.{self.db_name}.{table}\"\n",
    "\n",
    "# default instance; will use ENV/STORAGE_ACCOUNT/METASTORE_ACCOUNT if set\n",
    "conf = Config()\n"
   ]
  }
 ],
 "metadata": {
  "application/vnd.databricks.v1+notebook": {
   "computePreferences": null,
   "dashboards": [],
   "environmentMetadata": {
    "base_environment": "",
    "environment_version": "2"
   },
   "inputWidgetPreferences": null,
   "language": "python",
   "notebookMetadata": {
    "mostRecentlyExecutedCommandWithImplicitDF": {
     "commandId": 6512397025442030,
     "dataframes": [
      "_sqldf"
     ]
    },
    "pythonIndentUnit": 4
   },
   "notebookName": "1_config.py",
   "widgets": {}
  },
  "language_info": {
   "name": "python"
  }
 },
 "nbformat": 4,
 "nbformat_minor": 0
}
